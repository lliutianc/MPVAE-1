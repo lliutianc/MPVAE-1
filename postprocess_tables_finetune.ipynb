{
 "cells": [
  {
   "cell_type": "code",
   "execution_count": 3,
   "id": "e01bfa04-2227-47b4-9e12-c5260a4b16a6",
   "metadata": {},
   "outputs": [],
   "source": [
    "import pickle \n",
    "import numpy as np\n",
    "import os\n",
    "\n",
    "from fairsoft_utils import formal_fairness_name, formal_metric_name, formal_model_name"
   ]
  },
  {
   "cell_type": "code",
   "execution_count": 4,
   "id": "a7e7a882-2395-4941-9044-0eea5494a400",
   "metadata": {},
   "outputs": [],
   "source": [
    "def shorten_se(se):\n",
    "    if se == 0:\n",
    "        return '0'\n",
    "    else:\n",
    "        return f'\\\\nicefrac{{ {int(se * 1000)} }}{{10^3}}'"
   ]
  },
  {
   "cell_type": "code",
   "execution_count": 16,
   "id": "7aaaa856-2915-45f5-aace-d17bb6c49835",
   "metadata": {},
   "outputs": [],
   "source": [
    "def show_valid_replication(dataset, reg_norm, target_label_idx=0, masked=False, fair_coeff=1):\n",
    "    \n",
    "    fair_metrics = []\n",
    "    fair_results = {}\n",
    "    prefix = f'fair_through_postprocess/model/{dataset}/evaluation-{target_label_idx}'\n",
    "    if masked: \n",
    "        prefix += '_masked'\n",
    "    for i in range(1, 11):\n",
    "        target_file = f'{prefix}/finetune_fair_eval_{reg_norm}_reg_lambda={fair_coeff:.2f}_{i:04d}.pkl'\n",
    "        if os.path.exists(target_file):\n",
    "            fairs = pickle.load(open(target_file, 'rb'))\n",
    "    \n",
    "            if not fair_metrics:\n",
    "                fair_metrics = list(fairs.keys())\n",
    "            for met in fairs:\n",
    "                if met not in fair_results:\n",
    "                    fair_results[met] = {}\n",
    "                for mod in fairs[met]:\n",
    "                    if mod not in fair_results[met]:\n",
    "                        fair_results[met][mod] = []\n",
    "                    fair_results[met][mod].append(fairs[met][mod])\n",
    "    \n",
    "    perform_metrics = []\n",
    "    perform_results = {}\n",
    "    for i in range(1, 11):\n",
    "        target_file = f'{prefix}/finetune_perform_eval_{reg_norm}_reg_lambda={fair_coeff:.2f}_{i:04d}.pkl'\n",
    "        if os.path.exists(target_file):\n",
    "            performs = pickle.load(open(target_file, 'rb'))\n",
    "            \n",
    "            perform_models = list(performs.keys())\n",
    "            \n",
    "            if not perform_metrics:\n",
    "                perform_metrics = list(performs[perform_models[0]].keys())\n",
    "\n",
    "            for met in perform_metrics:\n",
    "                if met not in perform_results:\n",
    "                    perform_results[met] =  {}\n",
    "                for mod in performs:\n",
    "                    if mod not in perform_results[met]:\n",
    "                        perform_results[met][mod] = []\n",
    "                    \n",
    "                    perform_results[met][mod].append(performs[mod][met])\n",
    "            \n",
    "    fair_metrics = list(fair_results.keys())\n",
    "    fair_metrics_nested = {}\n",
    "    fair_metrics_sorted = []\n",
    "    should_add_eo = False\n",
    "    for met_hparam in fair_metrics:\n",
    "        met = met_hparam.split('_')[0]\n",
    "        if met not in fair_metrics_nested:\n",
    "            fair_metrics_nested[met] = []\n",
    "        fair_metrics_nested[met].append(met_hparam)\n",
    "    \n",
    "    for met in ['constant', 'jaccard', 'indication']:\n",
    "        if met in fair_metrics_nested:\n",
    "            if len(fair_metrics_nested[met]) > 1:\n",
    "                met_sorted = sorted(\n",
    "                    fair_metrics_nested[met], key=lambda met: float(met.split('_')[-1]))\n",
    "            else:\n",
    "                met_sorted = fair_metrics_nested[met]\n",
    "            fair_metrics_sorted += met_sorted\n",
    "    fair_metrics = fair_metrics_sorted\n",
    "    fair_models = [formal_model_name(fair_metric).replace('\\\\', '') for fair_metric in fair_metrics]\n",
    "    \n",
    "    colnames = ' & ' + ' & '.join(fair_models)\n",
    "    print(colnames + '\\\\\\\\')\n",
    "    print('\\\\midrule')\n",
    "    \n",
    "    skip_head_sep = True\n",
    "    \n",
    "    for met in fair_metrics:\n",
    "        result = []\n",
    "        for mod in fair_metrics:\n",
    "            results = fair_results[met][mod]\n",
    "            mean = np.mean(results, 0)[0]\n",
    "            se = np.std(results, 0)[0] / np.sqrt(len(results))\n",
    "            result.append(f\"{mean:.3f}\")\n",
    "\n",
    "        if skip_head_sep:\n",
    "            resultrow = formal_fairness_name(met).replace('\\\\', '') + ' & ' + ' & '.join(result)\n",
    "            skip_head_sep = False\n",
    "        else:\n",
    "            resultrow = formal_fairness_name(met).replace('\\\\', '').replace('SimFair', 'SF') + ' & ' + ' & '.join(result)\n",
    "        resultrow = resultrow.replace('.0 ', ' ').replace('0.', '.')\n",
    "        print(resultrow + '\\\\\\\\')\n",
    "    \n",
    "    for perform_metric in list(perform_results.keys()):\n",
    "        \n",
    "        result = []\n",
    "        for mod in fair_metrics:\n",
    "            results = perform_results[perform_metric][mod]\n",
    "            mean = np.mean(results, 0)[0]\n",
    "            se = np.std(results, 0)[0] / np.sqrt(len(results))\n",
    "            result.append(f\"${mean:.3f}$\")\n",
    "            resultrow = formal_metric_name(perform_metric).replace('\\\\', '').replace('SimFair', 'SF') + ' & ' + ' & '.join(result)\n",
    "        print(resultrow + '\\\\\\\\')\n",
    "    print('\\\\bottomrule')"
   ]
  },
  {
   "cell_type": "code",
   "execution_count": 17,
   "id": "47e7c954-3966-437c-9b99-2bc93d0f5158",
   "metadata": {},
   "outputs": [
    {
     "name": "stdout",
     "output_type": "stream",
     "text": [
      " & \\\\\n",
      "\\midrule\n",
      "\\bottomrule\n",
      "\n",
      "\n",
      "\n",
      "\n",
      "\n",
      "\n"
     ]
    }
   ],
   "source": [
    "show_valid_replication('adult', 'l2', '0', fair_coeff=1)\n",
    "print('\\n' * 5)\n",
    "# show_valid_replication('adult', 0, True)"
   ]
  },
  {
   "cell_type": "code",
   "execution_count": 18,
   "id": "cbc52215-8055-4278-bcb6-a939f5bbd8ae",
   "metadata": {},
   "outputs": [
    {
     "name": "stdout",
     "output_type": "stream",
     "text": [
      " & w/ DP reg & w/ $ s_{ 0.01 } $-SF reg & w/ $ s_{ 1.0 } $-SF reg & w/ $ s_{ 5.0 } $-SF reg & w/ $ s_{ 10.0 } $-SF reg & w/ EOp reg\\\\\n",
      "\\midrule\n",
      "DP & .116 & .116 & .117 & .118 & .127 & .165\\\\\n",
      "$ s_{ .01 } $-SF & .116 & .120 & .123 & .125 & .121 & .165\\\\\n",
      "$ s_{ 1 } $-SF & .119 & .119 & .120 & .127 & .122 & .166\\\\\n",
      "$ s_{ 5 } $-SF & .124 & .129 & .122 & .132 & .131 & .177\\\\\n",
      "$ s_{ 10 } $-SF & .147 & .148 & .158 & .158 & .162 & .216\\\\\n",
      "EOp & .161 & .174 & .172 & .192 & .160 & .206\\\\\n",
      "instance-F1 & $0.555$ & $0.554$ & $0.551$ & $0.553$ & $0.551$ & $0.572$\\\\\n",
      "micro-F1 & $0.502$ & $0.498$ & $0.498$ & $0.499$ & $0.497$ & $0.538$\\\\\n",
      "macro-F1 & $0.214$ & $0.212$ & $0.209$ & $0.213$ & $0.209$ & $0.219$\\\\\n",
      "\\bottomrule\n",
      "\n",
      "\n",
      "\n",
      "\n",
      "\n",
      "\n"
     ]
    }
   ],
   "source": [
    "show_valid_replication('adult', 'l2', '0', fair_coeff=0.1)\n",
    "print('\\n' * 5)\n",
    "# show_valid_replication('adult', 0, True)"
   ]
  },
  {
   "cell_type": "code",
   "execution_count": 19,
   "id": "2a3470e9-10e4-4667-9b4a-4f9bbacb0ac3",
   "metadata": {},
   "outputs": [
    {
     "name": "stdout",
     "output_type": "stream",
     "text": [
      " & w/ DP reg & w/ $ s_{ 0.01 } $-SF reg & w/ $ s_{ 1.0 } $-SF reg & w/ $ s_{ 5.0 } $-SF reg & w/ $ s_{ 10.0 } $-SF reg & w/ EOp reg\\\\\n",
      "\\midrule\n",
      "DP & .406 & .413 & .407 & .415 & .422 & .473\\\\\n",
      "$ s_{ .01 } $-SF & .416 & .415 & .409 & .417 & .422 & .481\\\\\n",
      "$ s_{ 1 } $-SF & .419 & .402 & .399 & .419 & .414 & .474\\\\\n",
      "$ s_{ 5 } $-SF & .481 & .475 & .478 & .498 & .503 & .597\\\\\n",
      "$ s_{ 10 } $-SF & .578 & .573 & .565 & .578 & .568 & .691\\\\\n",
      "EOp & .539 & .552 & .539 & .556 & .572 & .651\\\\\n",
      "instance-F1 & $0.531$ & $0.520$ & $0.522$ & $0.519$ & $0.525$ & $0.517$\\\\\n",
      "micro-F1 & $0.549$ & $0.541$ & $0.540$ & $0.537$ & $0.544$ & $0.536$\\\\\n",
      "macro-F1 & $0.366$ & $0.357$ & $0.357$ & $0.354$ & $0.363$ & $0.356$\\\\\n",
      "\\bottomrule\n",
      "\n",
      "\n",
      "\n",
      "\n",
      "\n",
      "\n"
     ]
    }
   ],
   "source": [
    "show_valid_replication('credit', 'l2', '0', fair_coeff=1)\n",
    "print('\\n' * 5)\n",
    "# show_valid_replication('adult', 0, True)"
   ]
  },
  {
   "cell_type": "code",
   "execution_count": null,
   "id": "ea975d61-148a-4f85-b904-62627c27a38c",
   "metadata": {},
   "outputs": [],
   "source": []
  }
 ],
 "metadata": {
  "kernelspec": {
   "display_name": "Python 3",
   "language": "python",
   "name": "python3"
  },
  "language_info": {
   "codemirror_mode": {
    "name": "ipython",
    "version": 3
   },
   "file_extension": ".py",
   "mimetype": "text/x-python",
   "name": "python",
   "nbconvert_exporter": "python",
   "pygments_lexer": "ipython3",
   "version": "3.8.12"
  }
 },
 "nbformat": 4,
 "nbformat_minor": 5
}
