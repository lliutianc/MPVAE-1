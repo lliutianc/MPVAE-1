{
 "cells": [
  {
   "cell_type": "code",
   "execution_count": 33,
   "id": "c76be9c0-09ee-4421-8b4e-ff1783a69cf7",
   "metadata": {},
   "outputs": [],
   "source": [
    "import numpy as np\n",
    "import os\n",
    "\n",
    "import matplotlib.pyplot as plt\n",
    "import seaborn as sns\n",
    "\n",
    "import warnings\n",
    "warnings.filterwarnings('ignore')"
   ]
  },
  {
   "cell_type": "code",
   "execution_count": 37,
   "id": "bdde5f1e-6ebb-4512-ad22-8d9f431a0df7",
   "metadata": {},
   "outputs": [],
   "source": [
    "fig = plt.figure(figsize=(10, 5))\n",
    "\n",
    "plt.subplot(121)\n",
    "for gamma in [.01, .1, .5, 1., 1.5,  2., 5., 10.]:\n",
    "    distances = np.load(f'label_dist-jaccard_{gamma}.npy', allow_pickle=True)\n",
    "    distances = np.concatenate([np.array(list(distances[key].values())) for key in distances]).squeeze()\n",
    "    sns.distplot(distances, label=f'Jac: gamma={gamma}')\n",
    "    \n",
    "plt.legend(loc=2)\n",
    "plt.title('Pairwise similarity: Jaccard')\n",
    "\n",
    "plt.subplot(122)\n",
    "for gamma in [.01, .1, .5, 1., 1.5,  2., 5., 10.]:\n",
    "    distances = np.load(f'label_dist-hamming_{gamma}.npy', allow_pickle=True)\n",
    "    distances = np.concatenate([np.array(list(distances[key].values())) for key in distances]).squeeze()\n",
    "    sns.distplot(distances, label=f'Ham: gamma={gamma}')\n",
    "    \n",
    "plt.legend(loc=2)\n",
    "plt.title('Pairwise similarity: Hamming')\n",
    "\n",
    "# plt.yscale('log')\n",
    "# plt.show()\n",
    "plt.savefig('../pairwise_sim.png')\n",
    "plt.close()"
   ]
  },
  {
   "cell_type": "code",
   "execution_count": 38,
   "id": "d9a19c9c-48e9-4d3d-9050-430642e15e5e",
   "metadata": {},
   "outputs": [],
   "source": [
    "def other_sim(sims):\n",
    "    sims = np.array(list(sims))\n",
    "    return sims[sims != 1]\n",
    "\n",
    "fig = plt.figure(figsize=(10, 5))\n",
    "\n",
    "plt.subplot(121)\n",
    "for gamma in [.01, .1, .5, 1., 1.5,  2., 5., 10.]:\n",
    "    distances = np.load(f'label_dist-jaccard_{gamma}.npy', allow_pickle=True)\n",
    "    max_distances = np.array([np.max(other_sim(distances[key].values())) for key in distances])\n",
    "    sns.distplot(max_distances, label=f'Jac: gamma={gamma}')\n",
    "    \n",
    "plt.legend(loc=2)\n",
    "plt.title('Maximum similarity: Jaccard')\n",
    "\n",
    "plt.subplot(122)\n",
    "for gamma in [.01, .1, .5, 1., 1.5,  2., 5., 10.]:\n",
    "    distances = np.load(f'label_dist-jaccard_{gamma}.npy', allow_pickle=True)\n",
    "    avg_distances = np.array([np.mean(other_sim(distances[key].values())) for key in distances])\n",
    "    sns.distplot(avg_distances, label=f'Ham: gamma={gamma}')\n",
    "    \n",
    "plt.legend(loc=2)\n",
    "plt.title('Average similarity: Jaccard')\n",
    "\n",
    "# plt.yscale('log')\n",
    "# plt.show()\n",
    "plt.savefig('../pointwise_sim_stat.png')\n",
    "plt.close()"
   ]
  },
  {
   "cell_type": "code",
   "execution_count": null,
   "id": "b7f62efd-0acc-4ee1-ad56-304f7f286ce7",
   "metadata": {},
   "outputs": [],
   "source": []
  },
  {
   "cell_type": "code",
   "execution_count": null,
   "id": "2195c53b-f37a-4914-9b4e-ccfb4e342df1",
   "metadata": {},
   "outputs": [],
   "source": []
  },
  {
   "cell_type": "code",
   "execution_count": null,
   "id": "536c9442-0a78-4a17-8079-56bb769bbdd5",
   "metadata": {},
   "outputs": [],
   "source": []
  }
 ],
 "metadata": {
  "kernelspec": {
   "display_name": "Python 3",
   "language": "python",
   "name": "python3"
  },
  "language_info": {
   "codemirror_mode": {
    "name": "ipython",
    "version": 3
   },
   "file_extension": ".py",
   "mimetype": "text/x-python",
   "name": "python",
   "nbconvert_exporter": "python",
   "pygments_lexer": "ipython3",
   "version": "3.8.5"
  }
 },
 "nbformat": 4,
 "nbformat_minor": 5
}
