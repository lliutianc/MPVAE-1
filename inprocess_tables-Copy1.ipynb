{
 "cells": [
  {
   "cell_type": "code",
   "execution_count": 1,
   "id": "b851d2ec-26c1-4a9f-a5c8-c27b6075dea1",
   "metadata": {},
   "outputs": [],
   "source": [
    "import pickle \n",
    "import numpy as np\n",
    "import os\n",
    "\n",
    "from fairsoft_utils import formal_fairness_name, formal_metric_name, formal_model_name"
   ]
  },
  {
   "cell_type": "code",
   "execution_count": 2,
   "id": "89b5d70f-31e0-453c-b5a4-9f7d565c3aec",
   "metadata": {},
   "outputs": [],
   "source": [
    "def shorten_se(se):\n",
    "    if se == 0:\n",
    "        return '0'\n",
    "    else:\n",
    "        return f'\\\\nicefrac{{ {int(se * 1000)} }}{{10^3}}'"
   ]
  },
  {
   "cell_type": "code",
   "execution_count": 3,
   "id": "736a6789-4d86-45f0-a6eb-edaee0c282f0",
   "metadata": {},
   "outputs": [],
   "source": [
    "def show_valid_replication(dataset, reg_norm, target_label_idx=0, masked=False, fair_coeff=1):\n",
    "    \n",
    "    fair_metrics = []\n",
    "    fair_results = {}\n",
    "    # prefix = f'inprocess/evaluation-{dataset}/evaluation-{target_label_idx}'\n",
    "    prefix = f'new_fair_through_representation/model/{dataset}/evaluation-{target_label_idx}'\n",
    "\n",
    "    if masked: \n",
    "        prefix += '_masked'\n",
    "    for i in range(1, 11):\n",
    "        target_file = f'{prefix}/fair_eval_{reg_norm}_reg_lambda={fair_coeff:.2f}_{i:04d}.pkl'\n",
    "        if os.path.exists(target_file):\n",
    "            fairs = pickle.load(open(target_file, 'rb'))\n",
    "            # print(fairs)\n",
    "            if not fair_metrics:\n",
    "                fair_metrics = list(fairs.keys())\n",
    "            # print(fair_metrics)\n",
    "            for met in fairs:\n",
    "                if met not in fair_results:\n",
    "                    fair_results[met] = {}\n",
    "                # print(met, fairs[met].keys())\n",
    "                for mod in fairs[met]:\n",
    "                    if mod not in fair_results[met]:\n",
    "                        fair_results[met][mod] = []\n",
    "                    fair_results[met][mod].append(fairs[met][mod])\n",
    "\n",
    "    perform_metrics = []\n",
    "    perform_results = {}\n",
    "    for i in range(1, 11):\n",
    "        target_file = f'{prefix}/perform_eval_{reg_norm}_reg_lambda={fair_coeff:.2f}_{i:04d}.pkl'\n",
    "        if os.path.exists(target_file):\n",
    "            performs = pickle.load(open(target_file, 'rb'))\n",
    "            \n",
    "            perform_models = list(performs.keys())\n",
    "            \n",
    "            if not perform_metrics:\n",
    "                perform_metrics = list(performs[perform_models[0]].keys())\n",
    "            \n",
    "            for met in perform_metrics:\n",
    "                if met not in perform_results:\n",
    "                    perform_results[met] =  {}\n",
    "                for mod in performs:\n",
    "                    if mod not in perform_results[met]:\n",
    "                        perform_results[met][mod] = []\n",
    "                    \n",
    "                    perform_results[met][mod].append(performs[mod][met])\n",
    "            \n",
    "    fair_metrics = list(fair_results.keys())\n",
    "    fair_metrics_nested = {}\n",
    "    fair_metrics_sorted = []\n",
    "    should_add_eo = False\n",
    "    for met_hparam in fair_metrics:\n",
    "        met = met_hparam.split('_')[0]\n",
    "        if met not in fair_metrics_nested:\n",
    "            fair_metrics_nested[met] = []\n",
    "        fair_metrics_nested[met].append(met_hparam)\n",
    "    \n",
    "    for met in ['constant', 'jaccard', 'indication', 'elementwise']:\n",
    "        if met in fair_metrics_nested:\n",
    "            if len(fair_metrics_nested[met]) > 1:\n",
    "                met_sorted = sorted(\n",
    "                    fair_metrics_nested[met], key=lambda met: float(met.split('_')[-1]))\n",
    "            else:\n",
    "                met_sorted = fair_metrics_nested[met]\n",
    "            fair_metrics_sorted += met_sorted\n",
    "\n",
    "    fair_metrics = fair_metrics_sorted\n",
    "    fair_models = [formal_model_name(fair_metric).replace('\\\\', '') for fair_metric in fair_metrics]\n",
    "\n",
    "    colnames = ' & ' + ' & '.join(fair_models + ['w/o Reg'])\n",
    "    print(colnames + '\\\\\\\\')\n",
    "    print('\\\\midrule')\n",
    "#     print(masked)\n",
    "    if masked:\n",
    "        subset = 'Masked' \n",
    "    else:\n",
    "        subset = 'Unmasked'\n",
    "    print(f'\\multirow{{9}}{{*}}{{ {subset} }} & ')\n",
    "    # print(fair_metrics)\n",
    "    \n",
    "    skip_head_sep = True\n",
    "    for met in fair_metrics:\n",
    "        result = []\n",
    "        for mod in fair_metrics + ['unfair']:\n",
    "            # print(met, mod)\n",
    "            results = fair_results[met][mod]\n",
    "            # print(results)\n",
    "            mean = np.mean(results, 0)[0]\n",
    "            se = np.std(results, 0)[0] / np.sqrt(len(results))\n",
    "#             se = shorten_se(se)\n",
    "#             se = f'{se:.3f}'\n",
    "#             result.append(f\"${mean:.3f} \\\\spm {se}$\")\n",
    "            result.append(f\"{mean:.3f}\")\n",
    "        \n",
    "        if skip_head_sep:\n",
    "            resultrow = formal_fairness_name(met).replace('\\\\', '') + ' & ' + ' & '.join(result)\n",
    "            skip_head_sep = False\n",
    "        else:\n",
    "            resultrow = formal_fairness_name(met).replace('\\\\', '').replace('SimFair', 'SF') + ' & ' + ' & '.join(result)\n",
    "        resultrow = resultrow.replace('.0 ', ' ').replace('0.', '.')\n",
    "        print(resultrow + '\\\\\\\\')\n",
    "\n",
    "    print('\\cmidrule(l){1-1}\\cmidrule(l){2-8}')\n",
    "    for perform_metric in list(perform_results.keys()):\n",
    "        if 'F1' in perform_metric:\n",
    "\n",
    "            result = []\n",
    "            for mod in fair_metrics + ['unfair']:\n",
    "                results = perform_results[perform_metric][mod]\n",
    "                mean = np.mean(results, 0)[0]\n",
    "                se = np.std(results, 0)[0] / np.sqrt(len(results))\n",
    "                se = f'{se:.3f}'\n",
    "                result.append(f\"{mean:.3f}\")\n",
    "            resultrow = formal_metric_name(perform_metric).replace('\\\\', '').replace('SimFair', 'SF') + ' & ' + ' & '.join(result)\n",
    "            resultrow = resultrow.replace('.0 ', ' ').replace('0.', '.')\n",
    "            print(resultrow + '\\\\\\\\')\n",
    "    print('\\\\bottomrule')"
   ]
  },
  {
   "cell_type": "code",
   "execution_count": 4,
   "id": "3fd92c1c-daf9-47a6-831f-62d726be4e6a",
   "metadata": {},
   "outputs": [
    {
     "name": "stdout",
     "output_type": "stream",
     "text": [
      " & w/ DP reg & w/ $ s_{ 0.01 } $-SF reg & w/ $ s_{ 1.0 } $-SF reg & w/ $ s_{ 5.0 } $-SF reg & w/ $ s_{ 10.0 } $-SF reg & w/ EOp reg & w/ Ele-EOp reg & w/o Reg\\\\\n",
      "\\midrule\n",
      "\\multirow{9}{*}{ Unmasked } & \n",
      "DP & .221 & .225 & .227 & .214 & .218 & .216 & .208 & .186\\\\\n",
      "$ s_{ .01 } $-SF & .221 & .226 & .226 & .214 & .219 & .216 & .207 & .187\\\\\n",
      "$ s_{ 1 } $-SF & .220 & .224 & .226 & .214 & .218 & .215 & .208 & .185\\\\\n",
      "$ s_{ 5 } $-SF & .235 & .238 & .245 & .226 & .238 & .230 & .223 & .204\\\\\n",
      "$ s_{ 10 } $-SF & .280 & .275 & .293 & .267 & .282 & .270 & .256 & .241\\\\\n",
      "EOp & .288 & .285 & .306 & .278 & .287 & .281 & .260 & .247\\\\\n",
      "Ele-EOp & .515 & .517 & .527 & .516 & .512 & .522 & .397 & .459\\\\\n",
      "\\cmidrule(l){1-1}\\cmidrule(l){2-8}\n",
      "macro-F1 & .220 & .204 & .217 & .220 & .222 & .219 & .194 & .158\\\\\n",
      "\\bottomrule\n",
      "\n",
      "\n",
      "\n",
      "\n",
      "\n",
      "\n"
     ]
    }
   ],
   "source": [
    "show_valid_replication('adult', 'l2', '0', fair_coeff=1)\n",
    "print('\\n' * 5)\n",
    "# show_valid_replication('adult', 0, True)"
   ]
  },
  {
   "cell_type": "code",
   "execution_count": 5,
   "id": "d7e585f0-b983-428f-b81a-66273bcd0936",
   "metadata": {},
   "outputs": [
    {
     "name": "stdout",
     "output_type": "stream",
     "text": [
      " & w/o Reg\\\\\n",
      "\\midrule\n",
      "\\multirow{9}{*}{ Unmasked } & \n",
      "\\cmidrule(l){1-1}\\cmidrule(l){2-8}\n",
      "\\bottomrule\n",
      "\n",
      "\n",
      "\n",
      "\n",
      "\n",
      "\n"
     ]
    }
   ],
   "source": [
    "show_valid_replication('adult', 'l2', '0', fair_coeff=0.1)\n",
    "print('\\n' * 5)\n",
    "# show_valid_replication('adult', 0, True)"
   ]
  },
  {
   "cell_type": "code",
   "execution_count": 6,
   "id": "bfd4324d-5ae5-422b-bc32-80cad948a6d1",
   "metadata": {},
   "outputs": [
    {
     "name": "stdout",
     "output_type": "stream",
     "text": [
      " & w/o Reg\\\\\n",
      "\\midrule\n",
      "\\multirow{9}{*}{ Unmasked } & \n",
      "\\cmidrule(l){1-1}\\cmidrule(l){2-8}\n",
      "\\bottomrule\n",
      "\n",
      "\n",
      "\n",
      "\n",
      "\n",
      "\n"
     ]
    }
   ],
   "source": [
    "show_valid_replication('credit', 'l2', '0', fair_coeff=1)\n",
    "print('\\n' * 5)\n",
    "# show_valid_replication('adult', 0, True)"
   ]
  },
  {
   "cell_type": "code",
   "execution_count": 5,
   "id": "ebc6f165-2e0f-4a6f-8670-92085db5e58c",
   "metadata": {},
   "outputs": [
    {
     "name": "stdout",
     "output_type": "stream",
     "text": [
      " & w/ DP reg & w/ $ s_{ 0.01 } $-SF reg & w/ $ s_{ 1.0 } $-SF reg & w/ $ s_{ 5.0 } $-SF reg & w/ $ s_{ 10.0 } $-SF reg & w/ EOp reg & w/ Ele-EOp reg & w/o Reg\\\\\n",
      "\\midrule\n",
      "\\multirow{9}{*}{ Unmasked } & \n",
      "DP & .043 & .042 & .039 & .043 & .040 & .054 & .042 & .061\\\\\n",
      "$ s_{ .01 } $-SF & .043 & .042 & .040 & .042 & .041 & .052 & .041 & .062\\\\\n",
      "$ s_{ 1 } $-SF & .044 & .042 & .040 & .041 & .041 & .053 & .042 & .063\\\\\n",
      "$ s_{ 5 } $-SF & .045 & .045 & .044 & .045 & .041 & .058 & .044 & .066\\\\\n",
      "$ s_{ 10 } $-SF & .051 & .048 & .045 & .046 & .046 & .064 & .050 & .090\\\\\n",
      "EOp & .062 & .053 & .055 & .056 & .054 & .070 & .054 & .080\\\\\n",
      "Ele-EOp & .010 & .009 & .009 & .009 & .009 & .011 & .009 & .008\\\\\n",
      "\\cmidrule(l){1-1}\\cmidrule(l){2-8}\n",
      "instance-F1 & .647 & .646 & .649 & .059 & .647 & .648 & .603 & .085\\\\\n",
      "micro-F1 & .659 & .658 & .661 & .084 & .659 & .660 & .631 & .127\\\\\n",
      "macro-F1 & .655 & .654 & .657 & .090 & .655 & .656 & .628 & .130\\\\\n",
      "\\bottomrule\n",
      "\n",
      "\n",
      "\n",
      "\n",
      "\n",
      "\n"
     ]
    }
   ],
   "source": [
    "show_valid_replication('simulation', 'l2', '0', fair_coeff=1)\n",
    "print('\\n' * 5)\n",
    "# show_valid_replication('adult', 0, True)"
   ]
  },
  {
   "cell_type": "code",
   "execution_count": null,
   "id": "55c96069-beab-4868-8fa0-33252cd0f311",
   "metadata": {},
   "outputs": [],
   "source": []
  }
 ],
 "metadata": {
  "kernelspec": {
   "display_name": "Python 3",
   "language": "python",
   "name": "python3"
  },
  "language_info": {
   "codemirror_mode": {
    "name": "ipython",
    "version": 3
   },
   "file_extension": ".py",
   "mimetype": "text/x-python",
   "name": "python",
   "nbconvert_exporter": "python",
   "pygments_lexer": "ipython3",
   "version": "3.8.12"
  }
 },
 "nbformat": 4,
 "nbformat_minor": 5
}
